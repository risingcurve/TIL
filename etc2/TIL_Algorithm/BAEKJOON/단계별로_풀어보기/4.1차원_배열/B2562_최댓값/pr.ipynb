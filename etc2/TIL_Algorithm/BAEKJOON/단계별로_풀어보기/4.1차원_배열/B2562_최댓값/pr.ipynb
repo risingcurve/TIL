{
 "cells": [
  {
   "cell_type": "code",
   "execution_count": 1,
   "metadata": {},
   "outputs": [
    {
     "name": "stdout",
     "output_type": "stream",
     "text": [
      "9 9\n"
     ]
    }
   ],
   "source": [
    "\n",
    "a = int(input())\n",
    "b = int(input())\n",
    "c = int(input())\n",
    "d = int(input())\n",
    "e = int(input())\n",
    "f = int(input())\n",
    "g = int(input())\n",
    "h = int(input())\n",
    "i = int(input())\n",
    "\n",
    "basket = [a,b,c,d,e,f,g,h,i]\n",
    "\n",
    "max_v = max(basket)\n",
    "print('{} {}'.format(max_v, basket.index(max_v) + 1))"
   ]
  },
  {
   "cell_type": "code",
   "execution_count": 5,
   "metadata": {},
   "outputs": [
    {
     "name": "stdout",
     "output_type": "stream",
     "text": [
      "9 9\n"
     ]
    }
   ],
   "source": [
    "basket = []\n",
    "\n",
    "for i in range(9):\n",
    "    basket.append(int(input()))\n",
    "\n",
    "max_v = max(basket)\n",
    "max_idx = basket.index(max_v)\n",
    "\n",
    "print('{} {}'.format(max_v, max_idx + 1))"
   ]
  },
  {
   "cell_type": "code",
   "execution_count": null,
   "metadata": {},
   "outputs": [],
   "source": []
  }
 ],
 "metadata": {
  "kernelspec": {
   "display_name": "Python 3.10.7 64-bit (microsoft store)",
   "language": "python",
   "name": "python3"
  },
  "language_info": {
   "codemirror_mode": {
    "name": "ipython",
    "version": 3
   },
   "file_extension": ".py",
   "mimetype": "text/x-python",
   "name": "python",
   "nbconvert_exporter": "python",
   "pygments_lexer": "ipython3",
   "version": "3.10.7"
  },
  "orig_nbformat": 4,
  "vscode": {
   "interpreter": {
    "hash": "2681d22abacbf3d0eeccb32024269549ea59a4be7647ffd75f3228576c6246b5"
   }
  }
 },
 "nbformat": 4,
 "nbformat_minor": 2
}
